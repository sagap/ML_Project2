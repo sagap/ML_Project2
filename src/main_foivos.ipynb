{
 "cells": [
  {
   "cell_type": "code",
   "execution_count": 1,
   "metadata": {},
   "outputs": [],
   "source": [
    "import preprocessing as preproc\n",
    "import helpers\n",
    "from tqdm import tqdm\n",
    "import time"
   ]
  },
  {
   "cell_type": "code",
   "execution_count": 3,
   "metadata": {},
   "outputs": [
    {
     "name": "stdout",
     "output_type": "stream",
     "text": [
      "Construct the cooccurrence matrix...\n",
      "Estimate the word embeddings...\n",
      "predefined\n",
      "Build word embeddings...\n",
      "Build tweet embeddings...\n",
      "Fit model...\n",
      "Perform cross validation...\n",
      "Accuracy: 0.6803 (+/- 0.0034)\n"
     ]
    }
   ],
   "source": [
    "start_time = time.time()\n",
    "\n",
    "full_dataset = False\n",
    "\n",
    "train_data, y, test_data = helpers.get_processed_data(full_dataset=full_dataset)\n",
    "\n",
    "clf, X_test = helpers.transform_and_fit(train_data, y, test_data, text_representation='glove',\n",
    "                                        ml_algorithm='LR', cross_val=True, predefined=False)\n",
    "\n",
    "helpers.predict_and_save(clf, X_test)\n",
    "\n",
    "elapsed_time = divmod(round((time.time() - start_time)), 60)\n",
    "print('------\\nElapsed time: {m} min {s} sec\\n'.format(m=elapsed_time[0], s=elapsed_time[1]))"
   ]
  }
 ],
 "metadata": {
  "kernelspec": {
   "display_name": "Python 3",
   "language": "python",
   "name": "python3"
  },
  "language_info": {
   "codemirror_mode": {
    "name": "ipython",
    "version": 3
   },
   "file_extension": ".py",
   "mimetype": "text/x-python",
   "name": "python",
   "nbconvert_exporter": "python",
   "pygments_lexer": "ipython3",
   "version": "3.6.0"
  }
 },
 "nbformat": 4,
 "nbformat_minor": 2
}
