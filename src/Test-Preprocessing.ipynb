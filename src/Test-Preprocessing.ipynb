{
 "cells": [
  {
   "cell_type": "raw",
   "metadata": {},
   "source": [
    "Best so far:\n",
    "    Accuracy: 0.8245 (+/- 0.0029)\n",
    "adding my hashtag funct:\n",
    "    Accuracy: 0.8245 (+/- 0.0029)\n",
    "their approach:\n",
    "    Accuracy: 0.8255 (+/- 0.0025)\n",
    "hashtag + their approach:\n",
    "    Accuracy: 0.8253 (+/- 0.0025)\n",
    "complete_hashtag + to lower case\n",
    "    Accuracy: 0.8255 (+/- 0.0025)\n",
    "all so far + slang:\n",
    "    Accuracy: 0.8253 (+/- 0.0021)\n",
    "    Accuracy: 0.8254 (+/- 0.0019)\n",
    "all so far + replace our number approach with their\n",
    "    Accuracy: 0.8259 (+/- 0.0021)\n",
    "all so far + numbers moved down(last step):\n",
    "    Accuracy: 0.8261 (+/- 0.0019)\n",
    "fixed elongated, last step:\n",
    "    Accuracy: 0.8264 (+/- 0.0017)\n",
    "\n",
    "\n",
    "    \n",
    "    \n",
    "\n",
    "    "
   ]
  },
  {
   "cell_type": "code",
   "execution_count": 1,
   "metadata": {},
   "outputs": [
    {
     "name": "stderr",
     "output_type": "stream",
     "text": [
      "/home/foivos/anaconda3/lib/python3.7/site-packages/sklearn/ensemble/weight_boosting.py:29: DeprecationWarning: numpy.core.umath_tests is an internal NumPy module and should not be imported. It will be removed in a future NumPy release.\n",
      "  from numpy.core.umath_tests import inner1d\n"
     ]
    }
   ],
   "source": [
    "import numpy as np\n",
    "import re\n",
    "from functools import reduce\n",
    "import preprocessing as preproc\n",
    "import time\n",
    "from sklearn.feature_extraction.text import TfidfTransformer, TfidfVectorizer\n",
    "from sklearn.linear_model import LogisticRegression\n",
    "from sklearn.model_selection import cross_val_score, KFold\n",
    "import helpers\n",
    "from tqdm import tqdm\n",
    "import hashtag\n",
    "from nltk.corpus import wordnet\n",
    "import models"
   ]
  },
  {
   "cell_type": "code",
   "execution_count": 2,
   "metadata": {},
   "outputs": [],
   "source": [
    "def do_preprocessing(filepath, test_file=False):\n",
    "    with open(filepath, 'r') as f_in:\n",
    "        lines = f_in.readlines()\n",
    "        f_in.close()    \n",
    "    \n",
    "    if test_file:\n",
    "        lines = [line.split(',', 1)[1] for line in lines]\n",
    "    \n",
    "    processed_list = []\n",
    "    for line in tqdm(lines):\n",
    "        pro_line = line\n",
    "        pro_line = preproc.remove_new_line(pro_line)\n",
    "        pro_line = preproc.replace_slang(pro_line)\n",
    "        pro_line = preproc.replace_contraction(pro_line)        \n",
    "        pro_line = preproc.remove_tags(pro_line)\n",
    "        pro_line = preproc.replace_emoji(pro_line)\n",
    "        pro_line = preproc.convert_to_lowercase(pro_line)\n",
    "              \n",
    "#         try:\n",
    "            \n",
    "#         except:\n",
    "#             print('filepath:', filepath)\n",
    "#             print('pro_line:', pro_line)\n",
    "#             return\n",
    "\n",
    "#         no        \n",
    "        # pro_line = preproc.lemmatize_verbs(pro_line)\n",
    "    \n",
    "#          yes                \n",
    "#         pro_line = preproc.replace_numbers(pro_line)\n",
    "        \n",
    "#         no\n",
    "        # pro_line = preproc.stemming_using_Porter(pro_line)\n",
    "        # pro_line = preproc.remove_stopwords(pro_line)\n",
    "        \n",
    "#         yes    \n",
    "        \n",
    "        pro_line = preproc.separate_hashtags(pro_line)\n",
    "        pro_line = preproc.filter_digits(pro_line)\n",
    "        pro_line = preproc.replace_elongated(pro_line)\n",
    "        processed_list.append(pro_line)\n",
    "\n",
    "    filename = filepath.split('/')[-1][:-4] + '_processed'\n",
    "    helpers.write_file(processed_list, filename)"
   ]
  },
  {
   "cell_type": "code",
   "execution_count": 3,
   "metadata": {},
   "outputs": [
    {
     "name": "stderr",
     "output_type": "stream",
     "text": [
      "100%|██████████| 100000/100000 [00:29<00:00, 3369.89it/s]\n",
      "100%|██████████| 100000/100000 [00:31<00:00, 3165.32it/s]\n"
     ]
    }
   ],
   "source": [
    "do_preprocessing('../twitter-datasets/train_pos.txt')\n",
    "do_preprocessing('../twitter-datasets/train_neg.txt')"
   ]
  },
  {
   "cell_type": "code",
   "execution_count": 7,
   "metadata": {},
   "outputs": [
    {
     "data": {
      "text/plain": [
       "\"i don't know justin read my mention or not . only justin and god knows about that , but i hope you will follow me <hashtag> believe number\""
      ]
     },
     "execution_count": 7,
     "metadata": {},
     "output_type": "execute_result"
    }
   ],
   "source": [
    "lines[0]"
   ]
  },
  {
   "cell_type": "code",
   "execution_count": 23,
   "metadata": {},
   "outputs": [
    {
     "name": "stdout",
     "output_type": "stream",
     "text": [
      "i don't know justin read my mention or not . only justin and god knows about that , but i hope you will follow me <hashtag> believe number\n",
      "i do not know justin read my mention or not . only justin and god knows about that , but i hope you will follow me <hashtag> believe number\n",
      "i do not know justin read my mention or not . only justin and god knows about that , but i hope you will follow me <hashtag> believe number\n"
     ]
    }
   ],
   "source": [
    "text = lines[0]\n",
    "print(text)\n",
    "pro_line = preproc.remove_new_line(text)\n",
    "\n",
    "pro_line = preproc.replace_contraction(pro_line)        \n",
    "print(pro_line)\n",
    "pro_line = preproc.remove_tags(pro_line)\n",
    "pro_line = preproc.replace_emoji(pro_line)\n",
    "pro_line = preproc.convert_to_lowercase(pro_line)\n",
    "pro_line = preproc.replace_slang(pro_line)\n",
    "pro_line = preproc.separate_hashtags(pro_line)\n",
    "pro_line = preproc.filter_digits(pro_line)\n",
    "pro_line = preproc.replace_elongated(pro_line)\n",
    "print(pro_line)"
   ]
  },
  {
   "cell_type": "code",
   "execution_count": null,
   "metadata": {},
   "outputs": [],
   "source": []
  },
  {
   "cell_type": "code",
   "execution_count": null,
   "metadata": {},
   "outputs": [],
   "source": [
    "start_time = time.time()"
   ]
  },
  {
   "cell_type": "code",
   "execution_count": 6,
   "metadata": {},
   "outputs": [
    {
     "data": {
      "text/plain": [
       "200000"
      ]
     },
     "execution_count": 6,
     "metadata": {},
     "output_type": "execute_result"
    }
   ],
   "source": [
    "# False to return the processed small dataset, True for the big one\n",
    "lines, y = preproc.return_processed_trainset_and_y(False)\n",
    "\n",
    "len(lines)"
   ]
  },
  {
   "cell_type": "code",
   "execution_count": null,
   "metadata": {},
   "outputs": [],
   "source": [
    "vectorizer = TfidfVectorizer(stop_words=None, ngram_range=(1,2), sublinear_tf=True, max_features=None)\n",
    "X = vectorizer.fit_transform(lines)"
   ]
  },
  {
   "cell_type": "code",
   "execution_count": null,
   "metadata": {},
   "outputs": [],
   "source": [
    "clf = models.return_model('LR')\n",
    "clf.fit(X,y)\n",
    "# kf = KFold(n_splits=4, shuffle=True, random_state=0)\n",
    "# scores = cross_val_score(clf, X, y, cv=kf, n_jobs=-1)\n",
    "# print(\"Accuracy: %0.4f (+/- %0.4f)\" % (scores.mean(), scores.std() * 2))"
   ]
  },
  {
   "cell_type": "code",
   "execution_count": null,
   "metadata": {},
   "outputs": [],
   "source": [
    "elapsed_time = divmod(round((time.time() - start_time)), 60)\n",
    "print('------\\nElapsed time: {m} min {s} sec\\n'.format(m=elapsed_time[0], s=elapsed_time[1]))"
   ]
  },
  {
   "cell_type": "code",
   "execution_count": null,
   "metadata": {},
   "outputs": [],
   "source": []
  },
  {
   "cell_type": "code",
   "execution_count": null,
   "metadata": {},
   "outputs": [],
   "source": [
    "do_preprocessing('../twitter-datasets/test_data.txt')\n",
    "\n",
    "with open('../twitter-datasets/test_data_processed.txt') as test_in:\n",
    "    test_lines = test_in.readlines()\n",
    "\n",
    "print(len(test_lines))\n",
    "print(test_lines[:5])\n",
    "\n",
    "\n",
    "\n",
    "X_test = vectorizer.transform(test_lines)\n",
    "\n",
    "y_pred = clf.predict(X_test)\n",
    "\n",
    "helpers.create_submission_csv(y_pred)\n",
    "\n",
    "print(np.unique(y_pred))"
   ]
  },
  {
   "cell_type": "code",
   "execution_count": null,
   "metadata": {},
   "outputs": [],
   "source": []
  },
  {
   "cell_type": "code",
   "execution_count": null,
   "metadata": {},
   "outputs": [],
   "source": []
  },
  {
   "cell_type": "code",
   "execution_count": null,
   "metadata": {},
   "outputs": [],
   "source": []
  }
 ],
 "metadata": {
  "kernelspec": {
   "display_name": "Python 3",
   "language": "python",
   "name": "python3"
  },
  "language_info": {
   "codemirror_mode": {
    "name": "ipython",
    "version": 3
   },
   "file_extension": ".py",
   "mimetype": "text/x-python",
   "name": "python",
   "nbconvert_exporter": "python",
   "pygments_lexer": "ipython3",
   "version": "3.6.5"
  }
 },
 "nbformat": 4,
 "nbformat_minor": 2
}
