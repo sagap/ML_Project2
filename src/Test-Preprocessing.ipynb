{
 "cells": [
  {
   "cell_type": "raw",
   "metadata": {},
   "source": [
    "-->maybe because of import models\n",
    "/home/foivos/anaconda3/lib/python3.7/site-packages/sklearn/ensemble/weight_boosting.py:29: DeprecationWarning: numpy.core.umath_tests is an internal NumPy module and should not be imported. It will be removed in a future NumPy release.\n",
    "  from numpy.core.umath_tests import inner1d\n",
    "\n",
    "\n",
    "Best so far:\n",
    "    Accuracy: 0.8245 (+/- 0.0029)\n",
    "adding my hashtag funct:\n",
    "    Accuracy: 0.8245 (+/- 0.0029)\n",
    "their approach:\n",
    "    Accuracy: 0.8255 (+/- 0.0025)\n",
    "hashtag + their approach:\n",
    "    Accuracy: 0.8253 (+/- 0.0025)\n",
    "complete_hashtag + to lower case\n",
    "    Accuracy: 0.8255 (+/- 0.0025)\n",
    "all so far + slang:\n",
    "    Accuracy: 0.8253 (+/- 0.0021)\n",
    "    Accuracy: 0.8254 (+/- 0.0019)\n",
    "all so far + replace our number approach with their\n",
    "    Accuracy: 0.8259 (+/- 0.0021)\n",
    "all so far + numbers moved down(last step):\n",
    "    Accuracy: 0.8261 (+/- 0.0019)\n",
    "fixed elongated, last step:\n",
    "    Accuracy: 0.8264 (+/- 0.0017)\n",
    "all so far + lemmatizer\n",
    "    Accuracy: 0.8262 (+/- 0.0022)\n",
    "might not include lemma\n",
    "all so far + happy_emoji\n",
    "    Accuracy: 0.8267 (+/- 0.0018)\n",
    "all so far + change in contraction\n",
    "    Accuracy: 0.8265 (+/- 0.0017)\n",
    "add_sentiment\n",
    "    Accuracy: 0.8268 (+/- 0.0031)\n",
    "threshold 0.6:\n",
    "    Accuracy: 0.8270 (+/- 0.0024)\n",
    "Accuracy: 0.8270 (+/- 0.0024)\n",
    "\n",
    "    \n",
    "    \n",
    "    \n",
    "    \n",
    "# text = lines[0]\n",
    "# print(text)\n",
    "# pro_line = preproc.remove_new_line(text)\n",
    "\n",
    "# pro_line = preproc.replace_contraction(pro_line)        \n",
    "# print(pro_line)\n",
    "# pro_line = preproc.remove_tags(pro_line)\n",
    "# pro_line = preproc.replace_emoji(pro_line)\n",
    "# pro_line = preproc.convert_to_lowercase(pro_line)\n",
    "# pro_line = preproc.replace_slang(pro_line)\n",
    "# pro_line = preproc.separate_hashtags(pro_line)\n",
    "# pro_line = preproc.filter_digits(pro_line)\n",
    "# pro_line = preproc.replace_elongated(pro_line)\n",
    "# print(pro_line)\n",
    "\n",
    "#         try:\n",
    "            \n",
    "#         except:\n",
    "#             print('filepath:', filepath)\n",
    "#             print('pro_line:', pro_line)\n",
    "#             return"
   ]
  },
  {
   "cell_type": "code",
   "execution_count": 1,
   "metadata": {},
   "outputs": [
    {
     "name": "stderr",
     "output_type": "stream",
     "text": [
      "/home/foivos/anaconda3/lib/python3.7/site-packages/sklearn/ensemble/weight_boosting.py:29: DeprecationWarning: numpy.core.umath_tests is an internal NumPy module and should not be imported. It will be removed in a future NumPy release.\n",
      "  from numpy.core.umath_tests import inner1d\n"
     ]
    }
   ],
   "source": [
    "import numpy as np\n",
    "import re\n",
    "from functools import reduce\n",
    "import preprocessing as preproc\n",
    "import time\n",
    "from sklearn.feature_extraction.text import TfidfTransformer, TfidfVectorizer\n",
    "from sklearn.linear_model import LogisticRegression\n",
    "from sklearn.model_selection import cross_val_score, KFold\n",
    "import helpers\n",
    "from tqdm import tqdm\n",
    "from nltk.corpus import wordnet\n",
    "import models\n",
    "import nltk\n",
    "# nltk.download('sentiwordnet')"
   ]
  },
  {
   "cell_type": "code",
   "execution_count": 2,
   "metadata": {},
   "outputs": [],
   "source": [
    "def do_preprocessing(filepath, test_file=False):\n",
    "    with open(filepath, 'r') as f_in:\n",
    "        lines = f_in.readlines()\n",
    "        f_in.close()    \n",
    "    \n",
    "    if test_file:\n",
    "        lines = [line.split(',', 1)[1] for line in lines]\n",
    "    \n",
    "    processed_list = []\n",
    "    for line in tqdm(lines):\n",
    "        pro_line = line\n",
    "        pro_line = preproc.remove_new_line(pro_line)\n",
    "        pro_line = preproc.replace_slang(pro_line)\n",
    "        pro_line = preproc.replace_contraction(pro_line)        \n",
    "        pro_line = preproc.remove_tags(pro_line)\n",
    "        pro_line = preproc.replace_emoji(pro_line)\n",
    "        pro_line = preproc.convert_to_lowercase(pro_line)\n",
    "#         no        \n",
    "#         pro_line = preproc.lemmatize_verbs(pro_line)\n",
    "        # pro_line = preproc.stemming_using_Porter(pro_line)\n",
    "#         pro_line = preproc.remove_stopwords(pro_line)\n",
    "        \n",
    "#         yes    \n",
    "        \n",
    "        pro_line = preproc.separate_hashtags(pro_line)\n",
    "        pro_line = preproc.replace_numbers(pro_line)\n",
    "        pro_line = preproc.replace_elongated(pro_line)\n",
    "        pro_line = preproc.add_sentiment(pro_line)\n",
    "        processed_list.append(pro_line)\n",
    "\n",
    "    filename = filepath.split('/')[-1][:-4] + '_processed'\n",
    "    helpers.write_file(processed_list, filename)"
   ]
  },
  {
   "cell_type": "code",
   "execution_count": 3,
   "metadata": {},
   "outputs": [
    {
     "name": "stderr",
     "output_type": "stream",
     "text": [
      "100%|██████████| 1250000/1250000 [22:57<00:00, 907.45it/s] \n",
      "100%|██████████| 1250000/1250000 [25:01<00:00, 832.46it/s] \n"
     ]
    }
   ],
   "source": [
    "do_preprocessing('../twitter-datasets/train_pos_full.txt')\n",
    "do_preprocessing('../twitter-datasets/train_neg_full.txt')"
   ]
  },
  {
   "cell_type": "code",
   "execution_count": 4,
   "metadata": {},
   "outputs": [],
   "source": [
    "# lines[0]"
   ]
  },
  {
   "cell_type": "code",
   "execution_count": null,
   "metadata": {},
   "outputs": [],
   "source": []
  },
  {
   "cell_type": "code",
   "execution_count": null,
   "metadata": {},
   "outputs": [],
   "source": []
  },
  {
   "cell_type": "code",
   "execution_count": null,
   "metadata": {},
   "outputs": [],
   "source": []
  },
  {
   "cell_type": "code",
   "execution_count": 5,
   "metadata": {},
   "outputs": [],
   "source": [
    "start_time = time.time()"
   ]
  },
  {
   "cell_type": "code",
   "execution_count": 6,
   "metadata": {},
   "outputs": [
    {
     "data": {
      "text/plain": [
       "2500000"
      ]
     },
     "execution_count": 6,
     "metadata": {},
     "output_type": "execute_result"
    }
   ],
   "source": [
    "# False to return the processed small dataset, True for the big one\n",
    "lines, y = preproc.return_processed_trainset_and_y(True)\n",
    "\n",
    "len(lines)"
   ]
  },
  {
   "cell_type": "code",
   "execution_count": 7,
   "metadata": {},
   "outputs": [],
   "source": [
    "vectorizer = TfidfVectorizer(stop_words=None, ngram_range=(1,2), sublinear_tf=True, max_features=None)\n",
    "X = vectorizer.fit_transform(lines)"
   ]
  },
  {
   "cell_type": "code",
   "execution_count": 8,
   "metadata": {},
   "outputs": [
    {
     "data": {
      "text/plain": [
       "LogisticRegression(C=1.0, class_weight=None, dual=False, fit_intercept=True,\n",
       "          intercept_scaling=1, max_iter=1000, multi_class='ovr', n_jobs=1,\n",
       "          penalty='l2', random_state=None, solver='liblinear', tol=0.0001,\n",
       "          verbose=0, warm_start=False)"
      ]
     },
     "execution_count": 8,
     "metadata": {},
     "output_type": "execute_result"
    }
   ],
   "source": [
    "clf = models.return_model('LR')\n",
    "clf.fit(X,y)\n",
    "# kf = KFold(n_splits=4, shuffle=True, random_state=1)\n",
    "# scores = cross_val_score(clf, X, y, cv=kf, n_jobs=-1)\n",
    "# print(\"Accuracy: %0.4f (+/- %0.4f)\" % (scores.mean(), scores.std() * 2))"
   ]
  },
  {
   "cell_type": "code",
   "execution_count": 9,
   "metadata": {},
   "outputs": [
    {
     "name": "stdout",
     "output_type": "stream",
     "text": [
      "------\n",
      "Elapsed time: 4 min 33 sec\n",
      "\n"
     ]
    }
   ],
   "source": [
    "elapsed_time = divmod(round((time.time() - start_time)), 60)\n",
    "print('------\\nElapsed time: {m} min {s} sec\\n'.format(m=elapsed_time[0], s=elapsed_time[1]))"
   ]
  },
  {
   "cell_type": "code",
   "execution_count": 10,
   "metadata": {},
   "outputs": [
    {
     "name": "stderr",
     "output_type": "stream",
     "text": [
      "100%|██████████| 10000/10000 [00:11<00:00, 888.32it/s]\n"
     ]
    },
    {
     "name": "stdout",
     "output_type": "stream",
     "text": [
      "10000\n",
      "[-1.  1.]\n"
     ]
    }
   ],
   "source": [
    "do_preprocessing('../twitter-datasets/test_data.txt')\n",
    "\n",
    "with open('../twitter-datasets/test_data_processed.txt') as test_in:\n",
    "    test_lines = test_in.readlines()\n",
    "\n",
    "print(len(test_lines))\n",
    "\n",
    "X_test = vectorizer.transform(test_lines)\n",
    "\n",
    "y_pred = clf.predict(X_test)\n",
    "\n",
    "helpers.create_submission_csv(y_pred)\n",
    "\n",
    "print(np.unique(y_pred))"
   ]
  },
  {
   "cell_type": "code",
   "execution_count": null,
   "metadata": {},
   "outputs": [],
   "source": []
  },
  {
   "cell_type": "code",
   "execution_count": null,
   "metadata": {},
   "outputs": [],
   "source": []
  },
  {
   "cell_type": "code",
   "execution_count": null,
   "metadata": {},
   "outputs": [],
   "source": []
  }
 ],
 "metadata": {
  "kernelspec": {
   "display_name": "Python 3",
   "language": "python",
   "name": "python3"
  },
  "language_info": {
   "codemirror_mode": {
    "name": "ipython",
    "version": 3
   },
   "file_extension": ".py",
   "mimetype": "text/x-python",
   "name": "python",
   "nbconvert_exporter": "python",
   "pygments_lexer": "ipython3",
   "version": "3.6.0"
  }
 },
 "nbformat": 4,
 "nbformat_minor": 2
}
