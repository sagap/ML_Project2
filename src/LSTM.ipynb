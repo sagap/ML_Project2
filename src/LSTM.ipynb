{
 "cells": [
  {
   "cell_type": "code",
   "execution_count": 1,
   "metadata": {},
   "outputs": [
    {
     "name": "stderr",
     "output_type": "stream",
     "text": [
      "Using TensorFlow backend.\n"
     ]
    }
   ],
   "source": [
    "import preprocessing as preproc\n",
    "import helpers\n",
    "from tqdm import tqdm\n",
    "import time\n",
    "import text_representation as text_repr\n",
    "import numpy as np\n",
    "\n",
    "from keras.preprocessing.text import Tokenizer\n",
    "from keras.preprocessing.sequence import pad_sequences\n",
    "from keras.models import Sequential\n",
    "from keras.layers import Dense, Dropout, Conv1D, Embedding, Activation, Flatten, GlobalMaxPooling1D, LSTM\n",
    "from keras.optimizers import Adam, SGD\n",
    "\n",
    "from keras.callbacks import ModelCheckpoint\n",
    "from keras.models import load_model\n",
    "\n",
    "from sklearn.model_selection import train_test_split\n",
    "from sklearn.metrics import accuracy_score"
   ]
  },
  {
   "cell_type": "code",
   "execution_count": 2,
   "metadata": {},
   "outputs": [
    {
     "name": "stdout",
     "output_type": "stream",
     "text": [
      "143847: num of words , 120000: will be used\n"
     ]
    }
   ],
   "source": [
    "start_time = time.time()\n",
    "\n",
    "full_dataset = True\n",
    "glove_pretrained = True\n",
    "\n",
    "train_data, y, test_data = helpers.get_processed_data(full_dataset=full_dataset)\n",
    "\n",
    "num_words = text_repr.define_num_words(train_data, full_dataset)\n",
    "\n",
    "# word_embeddings = dict()\n",
    "# if glove_pretrained:\n",
    "#     word_embeddings = text_repr.loadGloveModel(\"../data/twitter-datasets/glove.twitter.27B.200d.txt\")"
   ]
  },
  {
   "cell_type": "code",
   "execution_count": null,
   "metadata": {},
   "outputs": [],
   "source": []
  },
  {
   "cell_type": "code",
   "execution_count": 3,
   "metadata": {},
   "outputs": [
    {
     "name": "stdout",
     "output_type": "stream",
     "text": [
      "127: max sentence length found, 130: will be used\n"
     ]
    }
   ],
   "source": [
    "tokenizer = text_repr.fit_tokenizer(train_data, num_words)\n",
    "\n",
    "# embedding_matrix = text_repr.get_embedding_matrix(tokenizer, word_embeddings, num_words)\n",
    "# print('embedding_matrix.shape:', embedding_matrix.shape)\n",
    "# print(embedding_matrix[0][-1])\n",
    "\n",
    "tweet_max_length = text_repr.define_tweet_max_len(train_data, full_dataset)\n",
    "\n",
    "train_data_seq = tokenizer.texts_to_sequences(train_data)\n",
    "test_data_seq = tokenizer.texts_to_sequences(test_data)\n",
    "train_data_seq = pad_sequences(train_data_seq, maxlen=tweet_max_length)\n",
    "test_data_seq = pad_sequences(test_data_seq, maxlen=tweet_max_length)"
   ]
  },
  {
   "cell_type": "code",
   "execution_count": null,
   "metadata": {},
   "outputs": [],
   "source": [
    "# keras.layers.recurrent.LSTM(output_dim, init='glorot_uniform'"
   ]
  },
  {
   "cell_type": "code",
   "execution_count": null,
   "metadata": {},
   "outputs": [],
   "source": [
    "model = Sequential()\n",
    "model.add(Embedding(input_dim=num_words, output_dim=200, weights=[embedding_matrix], \n",
    "                    input_length=tweet_max_length, trainable=True))\n",
    "model.add(LSTM(units=32, return_sequences=True, dropout=0.2, recurrent_dropout=0.2))\n",
    "model.add(LSTM(units=32, return_sequences=True, dropout=0.2, recurrent_dropout=0.2))\n",
    "model.add(LSTM(units=32, dropout=0.2, recurrent_dropout=0.2))\n",
    "model.add(Dense(2, activation='softmax'))\n",
    "model.summary()"
   ]
  },
  {
   "cell_type": "code",
   "execution_count": null,
   "metadata": {},
   "outputs": [],
   "source": [
    "model.compile(loss='sparse_categorical_crossentropy', optimizer='adam', metrics=['accuracy'])\n",
    "X_train, X_test, y_train, y_test = train_test_split(train_data_seq, y, test_size=0.2, random_state=42)\n"
   ]
  },
  {
   "cell_type": "code",
   "execution_count": null,
   "metadata": {},
   "outputs": [],
   "source": [
    "filepath_acc = \"../data/intermediate/lstm1.weights.best.hdf5\"\n",
    "checkpoint_acc = ModelCheckpoint(filepath_acc, monitor='val_acc', verbose=2, save_best_only=True, mode='max')"
   ]
  },
  {
   "cell_type": "code",
   "execution_count": null,
   "metadata": {},
   "outputs": [],
   "source": [
    "model.fit(X_train, y_train, validation_data=(X_test, y_test), epochs=5, batch_size=32, verbose=1)"
   ]
  },
  {
   "cell_type": "code",
   "execution_count": null,
   "metadata": {},
   "outputs": [],
   "source": []
  },
  {
   "cell_type": "code",
   "execution_count": 4,
   "metadata": {},
   "outputs": [],
   "source": [
    "best_model = load_model(\"../data/intermediate/lstm1.weights.best.hdf5\")"
   ]
  },
  {
   "cell_type": "code",
   "execution_count": 5,
   "metadata": {},
   "outputs": [
    {
     "name": "stdout",
     "output_type": "stream",
     "text": [
      "10000/10000 [==============================] - 10s 997us/step\n",
      "acc: 86.75%\n",
      "10000/10000 [==============================] - 12s 1ms/step\n",
      "acc: 86.80%\n",
      "10000/10000 [==============================] - 11s 1ms/step\n",
      "acc: 86.41%\n",
      "Average score: 0.8665333333333334\n"
     ]
    }
   ],
   "source": [
    "\n",
    "scores = []\n",
    "for i in range(1,4):\n",
    "    X_train, X_test, y_train, y_test = train_test_split(train_data_seq, y, test_size=10000, random_state=i)\n",
    "    score = best_model.evaluate(X_test,y_test,verbose=1)\n",
    "    print(\"%s: %.2f%%\" % (best_model.metrics_names[1], score[1]*100))\n",
    "    scores.append(score[1])\n",
    "print('Average score:', sum(scores)/len(scores))"
   ]
  },
  {
   "cell_type": "code",
   "execution_count": 6,
   "metadata": {},
   "outputs": [],
   "source": [
    "helpers.predict_and_save(best_model, test_data_seq, 'CNN')"
   ]
  },
  {
   "cell_type": "raw",
   "metadata": {},
   "source": [
    "lstm1 - the one we wrote together - small dataset:\n",
    "    best val accuracy at Epoch2: 0.84142\n",
    "    local testing Average score: 0.8834\n",
    "lstm1 - without recurrent dropout - small dataset:\n",
    "    best val accuracy at Epoch2: 0.84070\n",
    "    local testing Average score: "
   ]
  },
  {
   "cell_type": "code",
   "execution_count": null,
   "metadata": {},
   "outputs": [],
   "source": [
    "84070"
   ]
  }
 ],
 "metadata": {
  "kernelspec": {
   "display_name": "Python 3",
   "language": "python",
   "name": "python3"
  },
  "language_info": {
   "codemirror_mode": {
    "name": "ipython",
    "version": 3
   },
   "file_extension": ".py",
   "mimetype": "text/x-python",
   "name": "python",
   "nbconvert_exporter": "python",
   "pygments_lexer": "ipython3",
   "version": "3.6.0"
  }
 },
 "nbformat": 4,
 "nbformat_minor": 2
}
