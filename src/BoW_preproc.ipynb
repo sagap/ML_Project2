{
 "cells": [
  {
   "cell_type": "code",
   "execution_count": 26,
   "metadata": {},
   "outputs": [],
   "source": [
    "import numpy as np\n",
    "import re\n",
    "from functools import reduce\n",
    "import preprocessing as preproc\n",
    "import time\n",
    "from sklearn.feature_extraction.text import CountVectorizer\n",
    "from sklearn.linear_model import LogisticRegression\n",
    "from sklearn.model_selection import cross_val_score, KFold\n",
    "import helpers"
   ]
  },
  {
   "cell_type": "code",
   "execution_count": null,
   "metadata": {},
   "outputs": [],
   "source": [
    "start_time = time.time()"
   ]
  },
  {
   "cell_type": "code",
   "execution_count": 3,
   "metadata": {},
   "outputs": [],
   "source": [
    "preproc.do_preprocessing('../twitter-datasets/train_pos_full.txt')\n",
    "preproc.do_preprocessing('../twitter-datasets/train_neg_full.txt')"
   ]
  },
  {
   "cell_type": "code",
   "execution_count": 9,
   "metadata": {},
   "outputs": [],
   "source": [
    "with open('../twitter-datasets/train_pos_full_processed.txt') as pos_in, open(\n",
    "                            '../twitter-datasets/train_neg_full_processed.txt') as neg_in:\n",
    "    pos_lines = pos_in.readlines()\n",
    "    neg_lines = neg_in.readlines()\n",
    "    pos_in.close()\n",
    "    neg_in.close()\n",
    "lines = pos_lines + neg_lines\n",
    "lines = [line.replace('\\n', '') for line in lines]"
   ]
  },
  {
   "cell_type": "code",
   "execution_count": 10,
   "metadata": {},
   "outputs": [
    {
     "name": "stdout",
     "output_type": "stream",
     "text": [
      "2500000\n"
     ]
    },
    {
     "data": {
      "text/plain": [
       "['i duno justin read my mention or not . only justin and god knows about that , but i hope you wil folow me #believe',\n",
       " 'because your logic is so dumb , i wil not even crop out your name or your photo . tsk .',\n",
       " '\" just put casper in a box ! \" loved the batle ! #crakbitch',\n",
       " 'thanks sir > > do not trip lil mama . just kep doin ya thang !',\n",
       " 'visiting my brother tmr is the bestest birthday gift ever ! ! !']"
      ]
     },
     "execution_count": 10,
     "metadata": {},
     "output_type": "execute_result"
    }
   ],
   "source": [
    "print(len(lines))\n",
    "lines[:5]"
   ]
  },
  {
   "cell_type": "code",
   "execution_count": 11,
   "metadata": {},
   "outputs": [],
   "source": [
    "vectorizer = CountVectorizer()\n",
    "X = vectorizer.fit_transform(lines)\n",
    "\n",
    "y = np.zeros(shape=(len(lines)))\n",
    "y[:len(pos_lines)] = 1\n",
    "y[len(pos_lines):] = -1"
   ]
  },
  {
   "cell_type": "code",
   "execution_count": 13,
   "metadata": {},
   "outputs": [],
   "source": [
    "clf = LogisticRegression().fit(X, y)\n",
    "# kf = KFold(n_splits=4, shuffle=True, random_state=0)\n",
    "# scores = cross_val_score(clf, X, y, cv=kf)\n",
    "# print(\"Accuracy: %0.4f (+/- %0.4f)\" % (scores.mean(), scores.std() * 2))"
   ]
  },
  {
   "cell_type": "code",
   "execution_count": null,
   "metadata": {},
   "outputs": [],
   "source": [
    "preproc.do_preprocessing('../twitter-datasets/test_data.txt')"
   ]
  },
  {
   "cell_type": "code",
   "execution_count": 21,
   "metadata": {},
   "outputs": [],
   "source": [
    "with open('../twitter-datasets/test_data_processed.txt') as test_in:\n",
    "    test_lines = test_in.readlines()\n",
    "test_lines = [line.replace('\\n', '') for line in test_lines]"
   ]
  },
  {
   "cell_type": "code",
   "execution_count": 22,
   "metadata": {},
   "outputs": [
    {
     "name": "stdout",
     "output_type": "stream",
     "text": [
      "10000\n",
      "['sea do pro sea scoter ( sports with the portable sea-do seascotersave air , stay longer in the water and .', 'shucks wel i work al wek so now i ca not come cher you on ! oh and put those bateries in your calculator ! ! !', 'i canot stay away from bug thats my baby', 'no madam ! ! ! lol im perfectly fine and not contagious anymore lmao', 'whenever i fal aslep watching the tv , i always wake up with a headache']\n"
     ]
    }
   ],
   "source": [
    "print(len(test_lines))\n",
    "print(test_lines[:5])"
   ]
  },
  {
   "cell_type": "code",
   "execution_count": 27,
   "metadata": {},
   "outputs": [],
   "source": [
    "X_test = vectorizer.transform(test_lines)\n",
    "\n",
    "y_pred = clf.predict(X_test)\n",
    "\n",
    "helpers.create_submission_csv(y_pred)"
   ]
  },
  {
   "cell_type": "code",
   "execution_count": 28,
   "metadata": {},
   "outputs": [
    {
     "name": "stdout",
     "output_type": "stream",
     "text": [
      "[-1.  1.]\n"
     ]
    }
   ],
   "source": [
    "print(np.unique(y_pred))"
   ]
  },
  {
   "cell_type": "code",
   "execution_count": 29,
   "metadata": {},
   "outputs": [
    {
     "name": "stdout",
     "output_type": "stream",
     "text": [
      "------\n",
      "Elapsed time: 27 min 31 sec\n",
      "\n"
     ]
    }
   ],
   "source": [
    "elapsed_time = divmod(round((time.time() - start_time)), 60)\n",
    "print('------\\nElapsed time: {m} min {s} sec\\n'.format(m=elapsed_time[0], s=elapsed_time[1]))"
   ]
  },
  {
   "cell_type": "code",
   "execution_count": null,
   "metadata": {},
   "outputs": [],
   "source": []
  },
  {
   "cell_type": "code",
   "execution_count": null,
   "metadata": {},
   "outputs": [],
   "source": []
  }
 ],
 "metadata": {
  "kernelspec": {
   "display_name": "Python 3",
   "language": "python",
   "name": "python3"
  },
  "language_info": {
   "codemirror_mode": {
    "name": "ipython",
    "version": 3
   },
   "file_extension": ".py",
   "mimetype": "text/x-python",
   "name": "python",
   "nbconvert_exporter": "python",
   "pygments_lexer": "ipython3",
   "version": "3.7.0"
  }
 },
 "nbformat": 4,
 "nbformat_minor": 2
}
