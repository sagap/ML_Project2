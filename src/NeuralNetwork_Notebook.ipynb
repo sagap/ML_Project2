{
 "cells": [
  {
   "cell_type": "code",
   "execution_count": 2,
   "metadata": {},
   "outputs": [],
   "source": [
    "from keras.models import Sequential\n",
    "from keras.layers import Dense, Dropout, Conv1D, Embedding, Activation, Flatten\n",
    "from keras.optimizers import Adam\n",
    "import numpy as np\n",
    "import re\n",
    "import preprocessing as preproc\n",
    "import time\n",
    "from sklearn.feature_extraction.text import TfidfVectorizer, CountVectorizer\n",
    "import helpers\n",
    "import models"
   ]
  },
  {
   "cell_type": "code",
   "execution_count": 3,
   "metadata": {},
   "outputs": [],
   "source": [
    "start_time = time.time()"
   ]
  },
  {
   "cell_type": "code",
   "execution_count": null,
   "metadata": {},
   "outputs": [],
   "source": [
    "preproc.do_preprocessing('../data/twitter-datasets/train_pos.txt')\n",
    "preproc.do_preprocessing('../data/twitter-datasets/train_neg.txt')"
   ]
  },
  {
   "cell_type": "code",
   "execution_count": 4,
   "metadata": {},
   "outputs": [
    {
     "data": {
      "text/plain": [
       "200000"
      ]
     },
     "execution_count": 4,
     "metadata": {},
     "output_type": "execute_result"
    }
   ],
   "source": [
    "lines, y = preproc.return_processed_trainset_and_y(False)\n",
    "len(lines)"
   ]
  },
  {
   "cell_type": "code",
   "execution_count": 5,
   "metadata": {},
   "outputs": [
    {
     "name": "stdout",
     "output_type": "stream",
     "text": [
      "20000\n",
      "20000\n"
     ]
    }
   ],
   "source": [
    "lines1 = lines[:10000] + lines[100000:110000]\n",
    "y1 = np.concatenate((y[:10000], y[100000:110000]), axis=0)\n",
    "y1 = y1.tolist()\n",
    "print(len(lines1))\n",
    "print(len(y1))"
   ]
  },
  {
   "cell_type": "code",
   "execution_count": 6,
   "metadata": {},
   "outputs": [
    {
     "data": {
      "text/plain": [
       "array([0., 1.])"
      ]
     },
     "execution_count": 6,
     "metadata": {},
     "output_type": "execute_result"
    }
   ],
   "source": [
    "np.unique(y)"
   ]
  },
  {
   "cell_type": "code",
   "execution_count": 7,
   "metadata": {},
   "outputs": [],
   "source": [
    "vectorizer = TfidfVectorizer(stop_words=None, ngram_range=(1,2), sublinear_tf=True, max_features=1000)\n",
    "X = vectorizer.fit_transform(lines).toarray()"
   ]
  },
  {
   "cell_type": "code",
   "execution_count": 8,
   "metadata": {},
   "outputs": [
    {
     "data": {
      "text/plain": [
       "numpy.ndarray"
      ]
     },
     "execution_count": 8,
     "metadata": {},
     "output_type": "execute_result"
    }
   ],
   "source": [
    "type(X)"
   ]
  },
  {
   "cell_type": "code",
   "execution_count": 9,
   "metadata": {},
   "outputs": [],
   "source": [
    "adam = Adam(lr=0.02, beta_1=0.9, beta_2=0.99, epsilon=None, decay=0.001, amsgrad=False)"
   ]
  },
  {
   "cell_type": "code",
   "execution_count": 10,
   "metadata": {},
   "outputs": [
    {
     "name": "stdout",
     "output_type": "stream",
     "text": [
      "_________________________________________________________________\n",
      "Layer (type)                 Output Shape              Param #   \n",
      "=================================================================\n",
      "dense_1 (Dense)              (None, 64)                64064     \n",
      "_________________________________________________________________\n",
      "dropout_1 (Dropout)          (None, 64)                0         \n",
      "_________________________________________________________________\n",
      "dense_2 (Dense)              (None, 32)                2080      \n",
      "_________________________________________________________________\n",
      "dense_3 (Dense)              (None, 1)                 33        \n",
      "=================================================================\n",
      "Total params: 66,177\n",
      "Trainable params: 66,177\n",
      "Non-trainable params: 0\n",
      "_________________________________________________________________\n"
     ]
    }
   ],
   "source": [
    "# create model\n",
    "model = Sequential()\n",
    "# model.add(Embedding(X.shape[0], 300, input_length=X.shape[1]))\n",
    "# model.add(Flatten())\n",
    "model.add(Dense(units=64, input_dim=X.shape[1], activation='relu'))\n",
    "model.add(Dropout(0.1))\n",
    "model.add(Dense(units=32, activation='relu'))\n",
    "model.add(Dense(1, activation='sigmoid'))\n",
    "model.summary()"
   ]
  },
  {
   "cell_type": "code",
   "execution_count": 11,
   "metadata": {},
   "outputs": [],
   "source": [
    "#compile model\n",
    "model.compile(optimizer=adam, loss='binary_crossentropy', metrics=['acc'])"
   ]
  },
  {
   "cell_type": "code",
   "execution_count": null,
   "metadata": {},
   "outputs": [
    {
     "name": "stdout",
     "output_type": "stream",
     "text": [
      "Epoch 1/100\n",
      "200000/200000 [==============================] - 24s 122us/step - loss: 0.4526 - acc: 0.7770\n",
      "Epoch 2/100\n",
      "200000/200000 [==============================] - 24s 119us/step - loss: 0.4213 - acc: 0.7976\n",
      "Epoch 3/100\n",
      "200000/200000 [==============================] - 24s 119us/step - loss: 0.4094 - acc: 0.8057\n",
      "Epoch 4/100\n",
      "200000/200000 [==============================] - 24s 119us/step - loss: 0.4026 - acc: 0.8102\n",
      "Epoch 5/100\n",
      "200000/200000 [==============================] - 24s 121us/step - loss: 0.3973 - acc: 0.8131\n",
      "Epoch 6/100\n",
      "200000/200000 [==============================] - 24s 120us/step - loss: 0.3927 - acc: 0.8160\n",
      "Epoch 7/100\n",
      "200000/200000 [==============================] - 24s 120us/step - loss: 0.3894 - acc: 0.8183\n",
      "Epoch 8/100\n",
      "200000/200000 [==============================] - 24s 120us/step - loss: 0.3870 - acc: 0.8196\n",
      "Epoch 9/100\n",
      "200000/200000 [==============================] - 24s 122us/step - loss: 0.3848 - acc: 0.8210\n",
      "Epoch 10/100\n",
      "200000/200000 [==============================] - 25s 124us/step - loss: 0.3829 - acc: 0.8223\n",
      "Epoch 11/100\n",
      "200000/200000 [==============================] - 25s 123us/step - loss: 0.3813 - acc: 0.8226\n",
      "Epoch 12/100\n",
      "200000/200000 [==============================] - 24s 121us/step - loss: 0.3798 - acc: 0.8239\n",
      "Epoch 13/100\n",
      "200000/200000 [==============================] - 25s 123us/step - loss: 0.3783 - acc: 0.8248\n",
      "Epoch 14/100\n",
      "200000/200000 [==============================] - 25s 123us/step - loss: 0.3772 - acc: 0.8254\n",
      "Epoch 15/100\n",
      "200000/200000 [==============================] - 24s 122us/step - loss: 0.3761 - acc: 0.8265\n",
      "Epoch 16/100\n",
      "200000/200000 [==============================] - 25s 126us/step - loss: 0.3753 - acc: 0.8268\n",
      "Epoch 17/100\n",
      "200000/200000 [==============================] - 24s 122us/step - loss: 0.3744 - acc: 0.8276\n",
      "Epoch 18/100\n",
      "200000/200000 [==============================] - 26s 128us/step - loss: 0.3732 - acc: 0.8277\n",
      "Epoch 19/100\n",
      "200000/200000 [==============================] - 24s 122us/step - loss: 0.3726 - acc: 0.8283\n",
      "Epoch 20/100\n",
      "200000/200000 [==============================] - 25s 125us/step - loss: 0.3722 - acc: 0.8287\n",
      "Epoch 21/100\n",
      "200000/200000 [==============================] - 24s 122us/step - loss: 0.3718 - acc: 0.8293\n",
      "Epoch 22/100\n",
      "200000/200000 [==============================] - 24s 120us/step - loss: 0.3711 - acc: 0.8294\n",
      "Epoch 23/100\n",
      "200000/200000 [==============================] - 24s 121us/step - loss: 0.3702 - acc: 0.8297\n",
      "Epoch 24/100\n",
      "200000/200000 [==============================] - 24s 122us/step - loss: 0.3697 - acc: 0.8299\n",
      "Epoch 25/100\n",
      " 85312/200000 [===========>..................] - ETA: 14s - loss: 0.3688 - acc: 0.8308"
     ]
    }
   ],
   "source": [
    "#fit the model\n",
    "model.fit(x=X, y=y, batch_size=32, epochs=100, verbose=1)"
   ]
  },
  {
   "cell_type": "code",
   "execution_count": null,
   "metadata": {},
   "outputs": [],
   "source": [
    "scores = model.evaluate(X, y)\n",
    "print(\"\\n%s: %.2f%%\" % (model.metrics_names[1], scores[1]*100))"
   ]
  },
  {
   "cell_type": "code",
   "execution_count": null,
   "metadata": {},
   "outputs": [],
   "source": [
    "model.fit_generator(generator=batch_generator(X, y1, 32),\n",
    "                   epochs=5, validation_data=(X,y1),\n",
    "                    steps_per_epoch=X.shape[0]/32)"
   ]
  },
  {
   "cell_type": "code",
   "execution_count": null,
   "metadata": {},
   "outputs": [],
   "source": [
    "def batch_generator(X, y, batch_size):\n",
    "    samples_per_epoch = X.shape[0]\n",
    "    num_of_batches = samples_per_epoch / batch_size\n",
    "    counter = 0\n",
    "    index = np.arange(np.shape(y)[0])\n",
    "    while True:\n",
    "        index_batch = index[batch_size*counter:batch_size*(counter+1)]\n",
    "        X_batch = X[index_batch,:].toarray()\n",
    "        y_batch = y[y.index[index_batch]]\n",
    "        counter += 1\n",
    "        yield X_batch, y_batch\n",
    "        if counter > num_of_batches:\n",
    "            counter = 0"
   ]
  },
  {
   "cell_type": "markdown",
   "metadata": {},
   "source": [
    "400 features\n",
    "Me 10000 data:\n",
    "# 78.35 Adam:decay 0.002 lr 0.05 epochs 100\n",
    "# 73 Adam:decay 0.02\n",
    "\n",
    "Me 20000 data:\n",
    "# 77.23 Adam:decay 0.002 lr 0.05 epochs 100\n",
    "\n",
    "Me 200000 data:\n",
    "# 78.22 Adam:decay 0.002 lr 0.05 epochs 100\n",
    "\n",
    "Ola\n",
    "\n",
    " 78.94% adam = Adam(lr=0.02, beta_1=0.9, beta_2=0.99, epsilon=None, decay=0.001, amsgrad=False)\n",
    " \n",
    " 79.40% adam = Adam(lr=0.02, beta_1=0.9, beta_2=0.99, epsilon=None, decay=0.0001, amsgrad=False)\n",
    " \n",
    "Features 1000\n",
    "\n",
    " 81% adam = Adam(lr=0.03, beta_1=0.9, beta_2=0.99, epsilon=None, decay=0.0001, amsgrad=False)\n",
    "  \n",
    " 83 % adam = Adam(lr=0.02, beta_1=0.9, beta_2=0.99, epsilon=None, decay=0.0001, amsgrad=False)"
   ]
  },
  {
   "cell_type": "code",
   "execution_count": null,
   "metadata": {},
   "outputs": [],
   "source": []
  }
 ],
 "metadata": {
  "kernelspec": {
   "display_name": "Python 3",
   "language": "python",
   "name": "python3"
  },
  "language_info": {
   "codemirror_mode": {
    "name": "ipython",
    "version": 3
   },
   "file_extension": ".py",
   "mimetype": "text/x-python",
   "name": "python",
   "nbconvert_exporter": "python",
   "pygments_lexer": "ipython3",
   "version": "3.6.6"
  }
 },
 "nbformat": 4,
 "nbformat_minor": 2
}
