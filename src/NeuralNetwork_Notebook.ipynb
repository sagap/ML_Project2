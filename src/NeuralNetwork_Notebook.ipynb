{
 "cells": [
  {
   "cell_type": "code",
   "execution_count": 1,
   "metadata": {},
   "outputs": [
    {
     "name": "stderr",
     "output_type": "stream",
     "text": [
      "Using TensorFlow backend.\n"
     ]
    }
   ],
   "source": [
    "from keras.models import Sequential\n",
    "from keras.layers import Dense, Dropout, Conv1D, Embedding, Activation, Flatten\n",
    "from keras.optimizers import Adam, SGD\n",
    "import numpy as np\n",
    "import re\n",
    "import preprocessing as preproc\n",
    "import time\n",
    "from sklearn.feature_extraction.text import TfidfVectorizer, CountVectorizer\n",
    "import helpers\n",
    "import models\n",
    "from tqdm import tqdm\n",
    "from keras.wrappers.scikit_learn import KerasClassifier\n",
    "from sklearn.model_selection import cross_val_score, train_test_split\n",
    "from sklearn.model_selection import StratifiedKFold\n",
    "from sklearn.pipeline import Pipeline"
   ]
  },
  {
   "cell_type": "code",
   "execution_count": 2,
   "metadata": {},
   "outputs": [],
   "source": [
    "start_time = time.time()"
   ]
  },
  {
   "cell_type": "code",
   "execution_count": null,
   "metadata": {},
   "outputs": [],
   "source": [
    "# # baseline\n",
    "# def create_baseline():\n",
    "# # create model\n",
    "#     model = Sequential()\n",
    "#     model.add(Dense(60, input_dim=60, kernel_initializer='normal', activation='relu'))\n",
    "#     model.add(Dense(30, kernel_initializer='normal', activation='relu'))\n",
    "#     model.add(Dense(1, kernel_initializer='normal', activation='sigmoid'))\n",
    "#     sgd = SGD(lr=0.01, momentum=0.8, decay=0.0, nesterov=False)\n",
    "#     model.compile(loss='binary_crossentropy', optimizer=sgd, metrics=['accuracy'])\n",
    "#     return model"
   ]
  },
  {
   "cell_type": "code",
   "execution_count": null,
   "metadata": {},
   "outputs": [],
   "source": [
    "preproc.do_preprocessing('../data/twitter-datasets/train_pos.txt')\n",
    "preproc.do_preprocessing('../data/twitter-datasets/train_neg.txt')"
   ]
  },
  {
   "cell_type": "code",
   "execution_count": 2,
   "metadata": {},
   "outputs": [
    {
     "data": {
      "text/plain": [
       "2500000"
      ]
     },
     "execution_count": 2,
     "metadata": {},
     "output_type": "execute_result"
    }
   ],
   "source": [
    "lines, y = preproc.return_processed_trainset_and_y(True)\n",
    "len(lines)"
   ]
  },
  {
   "cell_type": "code",
   "execution_count": null,
   "metadata": {},
   "outputs": [],
   "source": []
  },
  {
   "cell_type": "code",
   "execution_count": 3,
   "metadata": {},
   "outputs": [],
   "source": [
    "vectorizer = TfidfVectorizer(stop_words=None, ngram_range=(1,2), sublinear_tf=True, max_features=100)\n",
    "X = vectorizer.fit_transform(lines).toarray()"
   ]
  },
  {
   "cell_type": "code",
   "execution_count": 4,
   "metadata": {},
   "outputs": [
    {
     "data": {
      "text/plain": [
       "numpy.ndarray"
      ]
     },
     "execution_count": 4,
     "metadata": {},
     "output_type": "execute_result"
    }
   ],
   "source": [
    "type(X)"
   ]
  },
  {
   "cell_type": "code",
   "execution_count": 5,
   "metadata": {},
   "outputs": [],
   "source": [
    "X_train, X_test, y_train, y_test = train_test_split(X, y, test_size=0.2, random_state=42)"
   ]
  },
  {
   "cell_type": "code",
   "execution_count": 6,
   "metadata": {},
   "outputs": [],
   "source": [
    "optimizer = Adam(lr=0.02, beta_1=0.9, beta_2=0.99, epsilon=None, decay=0.001, amsgrad=False)"
   ]
  },
  {
   "cell_type": "code",
   "execution_count": null,
   "metadata": {},
   "outputs": [],
   "source": [
    "optimizer = SGD(lr=0.04, momentum=0.08, decay=0.0001, nesterov=True)"
   ]
  },
  {
   "cell_type": "code",
   "execution_count": null,
   "metadata": {},
   "outputs": [],
   "source": [
    "X.shape"
   ]
  },
  {
   "cell_type": "code",
   "execution_count": 9,
   "metadata": {},
   "outputs": [],
   "source": [
    "def create_model():\n",
    "    model = Sequential()\n",
    "    model.add(Dense(units=128, input_dim=X.shape[1], activation='relu'))\n",
    "    model.add(Dropout(0.1))\n",
    "    model.add(Dense(units=64, activation='relu'))\n",
    "#     model.add(Dropout(0.1))\n",
    "    model.add(Dense(1, activation='sigmoid'))\n",
    "    model.compile(optimizer=optimizer, loss='binary_crossentropy', metrics=['acc'])\n",
    "    return model\n",
    "model = create_model()"
   ]
  },
  {
   "cell_type": "code",
   "execution_count": null,
   "metadata": {},
   "outputs": [],
   "source": [
    "result = model.fit(X_train, y_train, validation_data=(X_test, y_test), epochs=50, batch_size=32, verbose=2)"
   ]
  },
  {
   "cell_type": "code",
   "execution_count": null,
   "metadata": {},
   "outputs": [],
   "source": [
    "np.mean(result.history['val_acc'])"
   ]
  },
  {
   "cell_type": "code",
   "execution_count": null,
   "metadata": {},
   "outputs": [],
   "source": [
    "result.history()"
   ]
  },
  {
   "cell_type": "code",
   "execution_count": null,
   "metadata": {},
   "outputs": [],
   "source": [
    "#best\n",
    "np.mean(result.history['val_acc'])"
   ]
  },
  {
   "cell_type": "code",
   "execution_count": null,
   "metadata": {},
   "outputs": [],
   "source": []
  },
  {
   "cell_type": "code",
   "execution_count": null,
   "metadata": {},
   "outputs": [],
   "source": []
  },
  {
   "cell_type": "code",
   "execution_count": null,
   "metadata": {},
   "outputs": [],
   "source": [
    "scores = model.evaluate(X, y)\n",
    "print(\"\\n%s: %.2f%%\" % (model.metrics_names[1], scores[1]*100))"
   ]
  },
  {
   "cell_type": "code",
   "execution_count": 12,
   "metadata": {},
   "outputs": [
    {
     "name": "stdout",
     "output_type": "stream",
     "text": [
      "Epoch 1/5\n",
      "62500/62500 [==============================] - 153s 2ms/step - loss: 0.5413 - acc: 0.7129 - val_loss: 0.5411 - val_acc: 0.7123\n",
      "Epoch 2/5\n",
      "62500/62500 [==============================] - 154s 2ms/step - loss: 0.5411 - acc: 0.7132 - val_loss: 0.5409 - val_acc: 0.7124\n",
      "Epoch 3/5\n",
      "62500/62500 [==============================] - 155s 2ms/step - loss: 0.5409 - acc: 0.7132 - val_loss: 0.5407 - val_acc: 0.7123\n",
      "Epoch 4/5\n",
      "62500/62500 [==============================] - 153s 2ms/step - loss: 0.5407 - acc: 0.7134 - val_loss: 0.5406 - val_acc: 0.7125\n",
      "Epoch 5/5\n",
      "62500/62500 [==============================] - 151s 2ms/step - loss: 0.5406 - acc: 0.7139 - val_loss: 0.5405 - val_acc: 0.7125\n"
     ]
    },
    {
     "data": {
      "text/plain": [
       "<keras.callbacks.History at 0x7f1718483ef0>"
      ]
     },
     "execution_count": 12,
     "metadata": {},
     "output_type": "execute_result"
    }
   ],
   "source": [
    "model.fit_generator(generator=batch_generator(X_train, y_train, 32),\n",
    "                   epochs=5, validation_data=(X_test,y_test),\n",
    "                    steps_per_epoch=int(X_train.shape[0]/32))"
   ]
  },
  {
   "cell_type": "code",
   "execution_count": null,
   "metadata": {},
   "outputs": [],
   "source": [
    "a = batch_generator(X,y,32)"
   ]
  },
  {
   "cell_type": "code",
   "execution_count": null,
   "metadata": {},
   "outputs": [],
   "source": [
    "next(a)"
   ]
  },
  {
   "cell_type": "code",
   "execution_count": 10,
   "metadata": {},
   "outputs": [],
   "source": [
    "def batch_generator(X, y, batch_size):\n",
    "    batch_per_epoch = int(X.shape[0]/batch_size)\n",
    "    index = np.arange(np.shape(y)[0])\n",
    "    batches_x = [X[batch_size*i:batch_size*(i+1)] for i in range(batch_per_epoch)]\n",
    "    batches_y = [y[batch_size*i:batch_size*(i+1)] for i in range(batch_per_epoch)]\n",
    "    while(True):\n",
    "        for counter in range(len(batches_x)):\n",
    "            yield batches_x[counter], batches_y[counter]"
   ]
  },
  {
   "cell_type": "markdown",
   "metadata": {},
   "source": [
    "400 features\n",
    "Me 10000 data:\n",
    "# 78.35 Adam:decay 0.002 lr 0.05 epochs 100\n",
    "# 73 Adam:decay 0.02\n",
    "\n",
    "Me 20000 data:\n",
    "# 77.23 Adam:decay 0.002 lr 0.05 epochs 100\n",
    "\n",
    "Me 200000 data:\n",
    "# 78.22 Adam:decay 0.002 lr 0.05 epochs 100\n",
    "\n",
    "Ola\n",
    "\n",
    " 78.94% adam = Adam(lr=0.02, beta_1=0.9, beta_2=0.99, epsilon=None, decay=0.001, amsgrad=False)\n",
    " \n",
    " 79.40% adam = Adam(lr=0.02, beta_1=0.9, beta_2=0.99, epsilon=None, decay=0.0001, amsgrad=False)\n",
    " \n",
    "Features 1000\n",
    "\n",
    " 81% adam = Adam(lr=0.03, beta_1=0.9, beta_2=0.99, epsilon=None, decay=0.0001, amsgrad=False)\n",
    "  \n",
    " 83 % adam = Adam(lr=0.02, beta_1=0.9, beta_2=0.99, epsilon=None, decay=0.0001, amsgrad=False)"
   ]
  },
  {
   "cell_type": "code",
   "execution_count": null,
   "metadata": {},
   "outputs": [],
   "source": [
    "lines1 = lines[:10000] + lines[100000:110000]\n",
    "y1 = np.concatenate((y[:10000], y[100000:110000]), axis=0)\n",
    "y1 = y1.tolist()\n",
    "print(len(lines1))\n",
    "print(len(y1))"
   ]
  },
  {
   "cell_type": "code",
   "execution_count": null,
   "metadata": {},
   "outputs": [],
   "source": [
    "np.unique(y)"
   ]
  },
  {
   "cell_type": "markdown",
   "metadata": {},
   "source": [
    "84.5% adam = Adam(lr=0.02, beta_1=0.9, beta_2=0.99, epsilon=None, decay=0.001, amsgrad=False)"
   ]
  },
  {
   "cell_type": "markdown",
   "metadata": {},
   "source": [
    "82.5 adam = Adam(lr=0.02, beta_1=0.9, beta_2=0.99, epsilon=None, decay=0.005, amsgrad=False)"
   ]
  },
  {
   "cell_type": "markdown",
   "metadata": {},
   "source": [
    "83.49 adam = Adam(lr=0.08, beta_1=0.9, beta_2=0.99, epsilon=None, decay=0.005, amsgrad=False)"
   ]
  },
  {
   "cell_type": "markdown",
   "metadata": {},
   "source": [
    "# best model so far\n",
    "adam = Adam(lr=0.02, beta_1=0.9, beta_2=0.99, epsilon=None, decay=0.001, amsgrad=False)\n",
    "model = Sequential()\n",
    "model.add(Dense(units=64, input_dim=X.shape[1], activation='relu'))\n",
    "model.add(Dense(units=32, activation='relu'))\n",
    "model.add(Dropout(0.1))\n",
    "model.add(Dense(1, activation='sigmoid'))\n",
    "model.summary()"
   ]
  },
  {
   "cell_type": "code",
   "execution_count": null,
   "metadata": {},
   "outputs": [],
   "source": []
  }
 ],
 "metadata": {
  "kernelspec": {
   "display_name": "Python 3",
   "language": "python",
   "name": "python3"
  },
  "language_info": {
   "codemirror_mode": {
    "name": "ipython",
    "version": 3
   },
   "file_extension": ".py",
   "mimetype": "text/x-python",
   "name": "python",
   "nbconvert_exporter": "python",
   "pygments_lexer": "ipython3",
   "version": "3.6.6"
  }
 },
 "nbformat": 4,
 "nbformat_minor": 2
}
