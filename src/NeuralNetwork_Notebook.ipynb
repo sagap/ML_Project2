{
 "cells": [
  {
   "cell_type": "code",
   "execution_count": 1,
   "metadata": {},
   "outputs": [
    {
     "name": "stderr",
     "output_type": "stream",
     "text": [
      "Using TensorFlow backend.\n"
     ]
    }
   ],
   "source": [
    "from keras.models import Sequential\n",
    "from keras.layers import Dense, Dropout, Conv1D, Embedding, Activation, Flatten\n",
    "from keras.optimizers import Adam, SGD\n",
    "import numpy as np\n",
    "import re\n",
    "import preprocessing as preproc\n",
    "import time\n",
    "from sklearn.feature_extraction.text import TfidfVectorizer, CountVectorizer\n",
    "import helpers\n",
    "import models\n",
    "from tqdm import tqdm\n",
    "from keras.wrappers.scikit_learn import KerasClassifier\n",
    "from sklearn.model_selection import cross_val_score, train_test_split\n",
    "from sklearn.model_selection import StratifiedKFold\n",
    "from sklearn.pipeline import Pipeline"
   ]
  },
  {
   "cell_type": "code",
   "execution_count": 2,
   "metadata": {},
   "outputs": [],
   "source": [
    "start_time = time.time()"
   ]
  },
  {
   "cell_type": "code",
   "execution_count": 3,
   "metadata": {},
   "outputs": [],
   "source": [
    "train_data, y, test_data = helpers.get_processed_data(full_dataset=False)"
   ]
  },
  {
   "cell_type": "code",
   "execution_count": 4,
   "metadata": {},
   "outputs": [
    {
     "data": {
      "text/plain": [
       "array([0., 1.])"
      ]
     },
     "execution_count": 4,
     "metadata": {},
     "output_type": "execute_result"
    }
   ],
   "source": [
    "np.unique(y)"
   ]
  },
  {
   "cell_type": "code",
   "execution_count": 5,
   "metadata": {},
   "outputs": [],
   "source": [
    "vectorizer = TfidfVectorizer(stop_words=None, ngram_range=(1,2), sublinear_tf=True, max_features=1000)\n",
    "X = vectorizer.fit_transform(train_data).toarray()"
   ]
  },
  {
   "cell_type": "code",
   "execution_count": 6,
   "metadata": {},
   "outputs": [],
   "source": [
    "X_train, X_test, y_train, y_test = train_test_split(X, y, test_size=0.15, random_state=42)"
   ]
  },
  {
   "cell_type": "code",
   "execution_count": 16,
   "metadata": {},
   "outputs": [],
   "source": [
    "optimizer = Adam(lr=0.03, beta_1=0.9, beta_2=0.99, epsilon=None, decay=0.001, amsgrad=False)"
   ]
  },
  {
   "cell_type": "code",
   "execution_count": 17,
   "metadata": {},
   "outputs": [],
   "source": [
    "# optimizer = SGD(lr=0.04, momentum=0.08, decay=0.001, nesterov=True)"
   ]
  },
  {
   "cell_type": "code",
   "execution_count": 18,
   "metadata": {},
   "outputs": [
    {
     "data": {
      "text/plain": [
       "(200000, 1000)"
      ]
     },
     "execution_count": 18,
     "metadata": {},
     "output_type": "execute_result"
    }
   ],
   "source": [
    "X.shape"
   ]
  },
  {
   "cell_type": "code",
   "execution_count": 19,
   "metadata": {},
   "outputs": [],
   "source": [
    "def create_model():\n",
    "    model = Sequential()\n",
    "    model.add(Dense(units=64, input_dim=X.shape[1], activation='relu'))\n",
    "    model.add(Dropout(0.1))\n",
    "    model.add(Dense(units=32, activation='relu'))\n",
    "    model.add(Dense(1, activation='sigmoid'))\n",
    "    model.compile(optimizer=optimizer, loss='binary_crossentropy', metrics=['acc'])\n",
    "    return model\n",
    "model = create_model()"
   ]
  },
  {
   "cell_type": "code",
   "execution_count": 20,
   "metadata": {},
   "outputs": [
    {
     "name": "stdout",
     "output_type": "stream",
     "text": [
      "Train on 170000 samples, validate on 30000 samples\n",
      "Epoch 1/20\n",
      " - 10s - loss: 0.4535 - acc: 0.7767 - val_loss: 0.4357 - val_acc: 0.7894\n",
      "Epoch 2/20\n",
      " - 10s - loss: 0.4202 - acc: 0.7994 - val_loss: 0.4300 - val_acc: 0.7909\n",
      "Epoch 3/20\n",
      " - 10s - loss: 0.4069 - acc: 0.8079 - val_loss: 0.4319 - val_acc: 0.7925\n",
      "Epoch 4/20\n",
      " - 10s - loss: 0.3977 - acc: 0.8138 - val_loss: 0.4330 - val_acc: 0.7926\n",
      "Epoch 5/20\n",
      " - 10s - loss: 0.3907 - acc: 0.8177 - val_loss: 0.4337 - val_acc: 0.7926\n",
      "Epoch 6/20\n",
      " - 10s - loss: 0.3861 - acc: 0.8201 - val_loss: 0.4344 - val_acc: 0.7927\n",
      "Epoch 7/20\n",
      " - 10s - loss: 0.3821 - acc: 0.8229 - val_loss: 0.4351 - val_acc: 0.7927\n",
      "Epoch 8/20\n",
      " - 9s - loss: 0.3783 - acc: 0.8249 - val_loss: 0.4367 - val_acc: 0.7928\n",
      "Epoch 9/20\n",
      " - 9s - loss: 0.3756 - acc: 0.8264 - val_loss: 0.4385 - val_acc: 0.7918\n",
      "Epoch 10/20\n",
      " - 10s - loss: 0.3736 - acc: 0.8283 - val_loss: 0.4395 - val_acc: 0.7916\n",
      "Epoch 11/20\n",
      " - 10s - loss: 0.3714 - acc: 0.8292 - val_loss: 0.4408 - val_acc: 0.7903\n",
      "Epoch 12/20\n",
      " - 9s - loss: 0.3696 - acc: 0.8303 - val_loss: 0.4422 - val_acc: 0.7911\n",
      "Epoch 13/20\n",
      " - 9s - loss: 0.3669 - acc: 0.8322 - val_loss: 0.4432 - val_acc: 0.7909\n",
      "Epoch 14/20\n",
      " - 10s - loss: 0.3665 - acc: 0.8320 - val_loss: 0.4427 - val_acc: 0.7906\n",
      "Epoch 15/20\n",
      " - 9s - loss: 0.3649 - acc: 0.8327 - val_loss: 0.4451 - val_acc: 0.7907\n",
      "Epoch 16/20\n",
      " - 10s - loss: 0.3635 - acc: 0.8335 - val_loss: 0.4463 - val_acc: 0.7901\n",
      "Epoch 17/20\n",
      " - 9s - loss: 0.3623 - acc: 0.8345 - val_loss: 0.4471 - val_acc: 0.7899\n",
      "Epoch 18/20\n",
      " - 10s - loss: 0.3619 - acc: 0.8343 - val_loss: 0.4477 - val_acc: 0.7901\n",
      "Epoch 19/20\n",
      " - 10s - loss: 0.3611 - acc: 0.8347 - val_loss: 0.4485 - val_acc: 0.7889\n",
      "Epoch 20/20\n",
      " - 10s - loss: 0.3599 - acc: 0.8357 - val_loss: 0.4485 - val_acc: 0.7894\n"
     ]
    }
   ],
   "source": [
    "result = model.fit(X_train, y_train, validation_data=(X_test, y_test), epochs=20, batch_size=32, verbose=2)"
   ]
  },
  {
   "cell_type": "code",
   "execution_count": 14,
   "metadata": {},
   "outputs": [],
   "source": [
    "# result = model.fit_generator(generator=helpers.batch_generator(X_train, y_train, 32),\n",
    "#                    epochs=10, validation_data=(X_test,y_test),\n",
    "#                     steps_per_epoch=int(X_train.shape[0]/32), verbose=1)"
   ]
  },
  {
   "cell_type": "code",
   "execution_count": null,
   "metadata": {},
   "outputs": [],
   "source": [
    "np.mean(result.history['val_acc'])"
   ]
  },
  {
   "cell_type": "code",
   "execution_count": null,
   "metadata": {},
   "outputs": [],
   "source": [
    "# a = batch_generator(X,y,32)"
   ]
  },
  {
   "cell_type": "code",
   "execution_count": null,
   "metadata": {},
   "outputs": [],
   "source": [
    "# next(a)"
   ]
  },
  {
   "cell_type": "markdown",
   "metadata": {},
   "source": [
    "400 features\n",
    "Me 10000 data:\n",
    "# 78.35 Adam:decay 0.002 lr 0.05 epochs 100\n",
    "# 73 Adam:decay 0.02\n",
    "\n",
    "Me 20000 data:\n",
    "# 77.23 Adam:decay 0.002 lr 0.05 epochs 100\n",
    "\n",
    "Me 200000 data:\n",
    "# 78.22 Adam:decay 0.002 lr 0.05 epochs 100\n",
    "\n",
    "Ola\n",
    "\n",
    " 78.94% adam = Adam(lr=0.02, beta_1=0.9, beta_2=0.99, epsilon=None, decay=0.001, amsgrad=False)\n",
    " \n",
    " 79.40% adam = Adam(lr=0.02, beta_1=0.9, beta_2=0.99, epsilon=None, decay=0.0001, amsgrad=False)\n",
    " \n",
    "Features 1000\n",
    "\n",
    " 81% adam = Adam(lr=0.03, beta_1=0.9, beta_2=0.99, epsilon=None, decay=0.0001, amsgrad=False)\n",
    "  \n",
    " 83 % adam = Adam(lr=0.02, beta_1=0.9, beta_2=0.99, epsilon=None, decay=0.0001, amsgrad=False)"
   ]
  },
  {
   "cell_type": "code",
   "execution_count": null,
   "metadata": {},
   "outputs": [],
   "source": [
    "lines1 = lines[:10000] + lines[100000:110000]\n",
    "y1 = np.concatenate((y[:10000], y[100000:110000]), axis=0)\n",
    "y1 = y1.tolist()\n",
    "print(len(lines1))\n",
    "print(len(y1))"
   ]
  },
  {
   "cell_type": "code",
   "execution_count": null,
   "metadata": {},
   "outputs": [],
   "source": [
    "np.unique(y)"
   ]
  },
  {
   "cell_type": "markdown",
   "metadata": {},
   "source": [
    "84.5% adam = Adam(lr=0.02, beta_1=0.9, beta_2=0.99, epsilon=None, decay=0.001, amsgrad=False)"
   ]
  },
  {
   "cell_type": "markdown",
   "metadata": {},
   "source": [
    "82.5 adam = Adam(lr=0.02, beta_1=0.9, beta_2=0.99, epsilon=None, decay=0.005, amsgrad=False)"
   ]
  },
  {
   "cell_type": "markdown",
   "metadata": {},
   "source": [
    "83.49 adam = Adam(lr=0.08, beta_1=0.9, beta_2=0.99, epsilon=None, decay=0.005, amsgrad=False)"
   ]
  },
  {
   "cell_type": "markdown",
   "metadata": {},
   "source": [
    "# best model so far\n",
    "adam = Adam(lr=0.02, beta_1=0.9, beta_2=0.99, epsilon=None, decay=0.001, amsgrad=False)\n",
    "model = Sequential()\n",
    "model.add(Dense(units=64, input_dim=X.shape[1], activation='relu'))\n",
    "model.add(Dense(units=32, activation='relu'))\n",
    "model.add(Dropout(0.1))\n",
    "model.add(Dense(1, activation='sigmoid'))\n",
    "model.summary()"
   ]
  },
  {
   "cell_type": "code",
   "execution_count": null,
   "metadata": {},
   "outputs": [],
   "source": []
  }
 ],
 "metadata": {
  "kernelspec": {
   "display_name": "Python 3",
   "language": "python",
   "name": "python3"
  },
  "language_info": {
   "codemirror_mode": {
    "name": "ipython",
    "version": 3
   },
   "file_extension": ".py",
   "mimetype": "text/x-python",
   "name": "python",
   "nbconvert_exporter": "python",
   "pygments_lexer": "ipython3",
   "version": "3.6.6"
  }
 },
 "nbformat": 4,
 "nbformat_minor": 2
}
