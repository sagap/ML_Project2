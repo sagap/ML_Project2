{
 "cells": [
  {
   "cell_type": "code",
   "execution_count": 1,
   "metadata": {
    "scrolled": true
   },
   "outputs": [
    {
     "name": "stderr",
     "output_type": "stream",
     "text": [
      "Using TensorFlow backend.\n"
     ]
    }
   ],
   "source": [
    "import preprocessing as preproc\n",
    "import helpers\n",
    "from tqdm import tqdm\n",
    "import time\n",
    "import text_representation as text_repr\n",
    "import numpy as np\n",
    "from keras.preprocessing.sequence import pad_sequences\n",
    "from keras.models import Sequential\n",
    "from keras.layers import Dense, Dropout, Conv1D, Embedding, Activation, Flatten, GlobalMaxPooling1D\n",
    "from keras.optimizers import Adam, SGD\n",
    "from sklearn.model_selection import train_test_split\n",
    "from sklearn.model_selection import KFold\n",
    "from keras.callbacks import ModelCheckpoint\n",
    "from keras.models import load_model\n",
    "from sklearn.metrics import accuracy_score"
   ]
  },
  {
   "cell_type": "code",
   "execution_count": 2,
   "metadata": {},
   "outputs": [
    {
     "name": "stdout",
     "output_type": "stream",
     "text": [
      "38648: num of words , 30000: will be used\n",
      "74: max sentence length found, 80: will be used\n"
     ]
    }
   ],
   "source": [
    "start_time = time.time()\n",
    "\n",
    "full_dataset = False\n",
    "glove_pretrained = False\n",
    "\n",
    "train_data, y, test_data = helpers.get_processed_data(full_dataset=full_dataset)\n",
    "num_words = text_repr.define_num_words(train_data, full_dataset)\n",
    "tweet_max_length = text_repr.define_tweet_max_len(train_data, full_dataset)"
   ]
  },
  {
   "cell_type": "code",
   "execution_count": 3,
   "metadata": {},
   "outputs": [],
   "source": [
    "tokenizer = text_repr.fit_tokenizer(train_data, num_words)\n",
    "\n",
    "train_data_seq = tokenizer.texts_to_sequences(train_data)\n",
    "test_data_seq = tokenizer.texts_to_sequences(test_data)\n",
    "\n",
    "\n",
    "# train_data_seq = text_repr.create_sequences(train_data, num_words)\n",
    "# test_data_seq = text_repr.create_sequences(test_data, num_words)\n",
    "\n",
    "train_data_seq = pad_sequences(train_data_seq, maxlen=tweet_max_length)\n",
    "test_data_seq = pad_sequences(test_data_seq, maxlen=tweet_max_length)"
   ]
  },
  {
   "cell_type": "code",
   "execution_count": 4,
   "metadata": {},
   "outputs": [
    {
     "data": {
      "text/plain": [
       "(200000, 80)"
      ]
     },
     "execution_count": 4,
     "metadata": {},
     "output_type": "execute_result"
    }
   ],
   "source": [
    "train_data_seq.shape"
   ]
  },
  {
   "cell_type": "code",
   "execution_count": 5,
   "metadata": {
    "scrolled": true
   },
   "outputs": [
    {
     "data": {
      "text/plain": [
       "(10000, 80)"
      ]
     },
     "execution_count": 5,
     "metadata": {},
     "output_type": "execute_result"
    }
   ],
   "source": [
    "test_data_seq.shape"
   ]
  },
  {
   "cell_type": "code",
   "execution_count": 6,
   "metadata": {},
   "outputs": [],
   "source": [
    "filepath_acc = \"../data/intermediate/drop2.weights.best.hdf5\"\n",
    "checkpoint_acc = ModelCheckpoint(filepath_acc, monitor='val_acc', verbose=0, save_best_only=True, mode='max')"
   ]
  },
  {
   "cell_type": "code",
   "execution_count": 13,
   "metadata": {},
   "outputs": [
    {
     "name": "stdout",
     "output_type": "stream",
     "text": [
      "Train on 160000 samples, validate on 40000 samples\n",
      "Epoch 1/5\n",
      "160000/160000 [==============================] - 375s 2ms/step - loss: 0.3793 - acc: 0.8218 - val_loss: 0.3589 - val_acc: 0.8364\n",
      "Epoch 2/5\n",
      "160000/160000 [==============================] - 373s 2ms/step - loss: 0.3164 - acc: 0.8605 - val_loss: 0.3503 - val_acc: 0.8411\n",
      "Epoch 3/5\n",
      "160000/160000 [==============================] - 369s 2ms/step - loss: 0.2934 - acc: 0.8731 - val_loss: 0.3488 - val_acc: 0.8433\n",
      "Epoch 4/5\n",
      "160000/160000 [==============================] - 386s 2ms/step - loss: 0.2781 - acc: 0.8810 - val_loss: 0.3487 - val_acc: 0.8434\n",
      "Epoch 5/5\n",
      "160000/160000 [==============================] - 380s 2ms/step - loss: 0.2662 - acc: 0.8873 - val_loss: 0.3480 - val_acc: 0.8447\n"
     ]
    },
    {
     "data": {
      "text/plain": [
       "<keras.callbacks.History at 0x7f9b33f41940>"
      ]
     },
     "execution_count": 13,
     "metadata": {},
     "output_type": "execute_result"
    }
   ],
   "source": [
    "model_cnn_02 = Sequential()\n",
    "# e = Embedding(num_words, 200, weights=[embedding_matrix], input_length=tweet_max_length, trainable=True)\n",
    "e = Embedding(num_words, 200, input_length=tweet_max_length)\n",
    "model_cnn_02.add(e)\n",
    "model_cnn_02.add(Conv1D(filters=100, kernel_size=2, padding='valid', activation='relu', strides=1))\n",
    "model_cnn_02.add(GlobalMaxPooling1D())\n",
    "model_cnn_02.add(Dense(256, activation='relu'))\n",
    "model_cnn_02.add(Dropout(0.2))\n",
    "model_cnn_02.add(Dense(1, activation='sigmoid'))\n",
    "optimizer = Adam(lr=5e-4, beta_1=0.9, beta_2=0.99, epsilon=None, decay=0.001, amsgrad=False)\n",
    "\n",
    "model_cnn_02.compile(loss='binary_crossentropy', optimizer=optimizer, metrics=['accuracy'])\n",
    "\n",
    "X_train, X_test, y_train, y_test = train_test_split(train_data_seq, y, test_size=0.20, random_state=42)\n",
    "\n",
    "model_cnn_02.fit(X_train, y_train, validation_data=(X_test, y_test), epochs=5, batch_size=32, verbose=1, callbacks=[checkpoint_acc])"
   ]
  },
  {
   "cell_type": "code",
   "execution_count": 8,
   "metadata": {},
   "outputs": [],
   "source": [
    "# del model_cnn_02 0.84"
   ]
  },
  {
   "cell_type": "code",
   "execution_count": null,
   "metadata": {},
   "outputs": [],
   "source": []
  },
  {
   "cell_type": "code",
   "execution_count": 9,
   "metadata": {},
   "outputs": [],
   "source": [
    "# del model"
   ]
  },
  {
   "cell_type": "code",
   "execution_count": 10,
   "metadata": {},
   "outputs": [],
   "source": [
    "model = load_model(\"../data/intermediate/drop2.weights.best.hdf5\")"
   ]
  },
  {
   "cell_type": "code",
   "execution_count": 11,
   "metadata": {},
   "outputs": [
    {
     "name": "stdout",
     "output_type": "stream",
     "text": [
      "10000/10000 [==============================] - 1s 124us/step\n",
      "acc: 87.00%\n",
      "10000/10000 [==============================] - 1s 114us/step\n",
      "acc: 87.46%\n",
      "10000/10000 [==============================] - 1s 114us/step\n",
      "acc: 87.79%\n",
      "Average score: 0.8741666666666666\n"
     ]
    }
   ],
   "source": [
    "scores = []\n",
    "for i in range(1,4):\n",
    "    X_train, X_test, y_train, y_test = train_test_split(train_data_seq, y, test_size=10000, random_state=i)\n",
    "    score = model.evaluate(X_test,y_test,verbose=1)\n",
    "    print(\"%s: %.2f%%\" % (model.metrics_names[1], score[1]*100))\n",
    "    scores.append(score[1])\n",
    "print('Average score:', sum(scores)/len(scores))"
   ]
  },
  {
   "cell_type": "code",
   "execution_count": 12,
   "metadata": {},
   "outputs": [],
   "source": [
    "#predict to submit\n",
    "helpers.predict_and_save(model, test_data_seq, 'CNN')"
   ]
  },
  {
   "cell_type": "code",
   "execution_count": null,
   "metadata": {},
   "outputs": [],
   "source": []
  }
 ],
 "metadata": {
  "kernelspec": {
   "display_name": "Python 3",
   "language": "python",
   "name": "python3"
  },
  "language_info": {
   "codemirror_mode": {
    "name": "ipython",
    "version": 3
   },
   "file_extension": ".py",
   "mimetype": "text/x-python",
   "name": "python",
   "nbconvert_exporter": "python",
   "pygments_lexer": "ipython3",
   "version": "3.6.6"
  }
 },
 "nbformat": 4,
 "nbformat_minor": 2
}
