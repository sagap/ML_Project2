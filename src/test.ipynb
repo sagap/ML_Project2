{
 "cells": [
  {
   "cell_type": "code",
<<<<<<< 7091e82edf9a18475159b26d44d376856a865cb3
   "execution_count": 1,
   "metadata": {},
   "outputs": [],
   "source": [
    "#!/usr/bin/env python3\n",
    "from scipy.sparse import *\n",
    "import numpy as np\n",
    "import pickle"
   ]
  },
  {
   "cell_type": "code",
   "execution_count": 3,
   "metadata": {
    "collapsed": true
   },
   "outputs": [
    {
     "name": "stdout",
     "output_type": "stream",
     "text": [
      "10000\n",
      "20000\n",
      "30000\n",
      "40000\n",
      "50000\n",
      "60000\n",
      "70000\n",
      "80000\n",
      "90000\n",
      "100000\n",
      "110000\n",
      "120000\n",
      "130000\n",
      "140000\n",
      "150000\n",
      "160000\n",
      "170000\n",
      "180000\n",
      "190000\n",
      "200000\n",
      "summing duplicates (this can take a while)\n"
     ]
    }
   ],
   "source": [
    "with open('vocab.pkl', 'rb') as f:\n",
    "    vocab = pickle.load(f)\n",
    "vocab_size = len(vocab)\n",
    "\n",
    "data, row, col = [], [], []\n",
    "counter = 1\n",
    "for fn in ['../twitter-datasets/train_pos.txt', '../twitter-datasets/train_neg.txt']:\n",
    "    with open(fn) as f:\n",
    "        for line in f:\n",
    "            tokens = [vocab.get(t, -1) for t in line.strip().split()]\n",
    "            tokens = [t for t in tokens if t >= 0]\n",
    "            for t in tokens:\n",
    "                for t2 in tokens:\n",
    "                    data.append(1)\n",
    "                    row.append(t)\n",
    "                    col.append(t2)\n",
    "\n",
    "            if counter % 10000 == 0:\n",
    "                print(counter)\n",
    "            counter += 1\n",
    "cooc = coo_matrix((data, (row, col)))\n",
    "print(\"summing duplicates (this can take a while)\")\n",
    "cooc.sum_duplicates()\n",
    "\n",
    "#     with open('cooc.pkl', 'wb') as f:\n",
    "#         pickle.dump(cooc, f, pickle.HIGHEST_PROTOCOL)"
   ]
  },
  {
   "cell_type": "code",
   "execution_count": 18,
   "metadata": {},
   "outputs": [
    {
     "data": {
      "text/plain": [
       "[1, 1, 1, 1, 1]"
      ]
     },
     "execution_count": 18,
     "metadata": {},
     "output_type": "execute_result"
    }
   ],
   "source": [
    "data[:5]"
   ]
  },
  {
   "cell_type": "code",
   "execution_count": 22,
   "metadata": {},
   "outputs": [
    {
     "data": {
      "text/plain": [
       "<bound method _minmax_mixin.max of <21161x21161 sparse matrix of type '<class 'numpy.int64'>'\n",
       "\twith 6496907 stored elements in COOrdinate format>>"
      ]
     },
     "execution_count": 22,
     "metadata": {},
     "output_type": "execute_result"
    }
   ],
   "source": [
    "cooc.max"
   ]
  },
  {
   "cell_type": "code",
   "execution_count": 21,
   "metadata": {},
   "outputs": [
    {
     "data": {
      "text/plain": [
       "(21161, 21161)"
      ]
     },
     "execution_count": 21,
     "metadata": {},
     "output_type": "execute_result"
    }
   ],
   "source": [
    "cooc.shape"
   ]
  },
  {
   "cell_type": "code",
   "execution_count": null,
   "metadata": {},
   "outputs": [],
   "source": []
  },
  {
   "cell_type": "code",
   "execution_count": 23,
   "metadata": {},
   "outputs": [],
   "source": [
    "embeddings = np.load('embeddings.npy')"
   ]
  },
  {
   "cell_type": "code",
   "execution_count": 25,
   "metadata": {},
   "outputs": [
    {
     "data": {
      "text/plain": [
       "array([-0.21829827, -0.17639677,  0.33058519,  0.23931459,  0.10966594,\n",
       "        0.26938124, -0.04031308,  0.3449499 , -0.22013368, -0.33129144,\n",
       "        0.15015461, -0.40333164, -0.09379483, -0.02654216,  0.30953991,\n",
       "       -0.34319374, -0.25059757, -0.45986556,  0.21615815,  0.05634394])"
      ]
     },
     "execution_count": 25,
     "metadata": {},
     "output_type": "execute_result"
    }
   ],
   "source": [
    "embeddings[0]"
   ]
  },
  {
   "cell_type": "code",
   "execution_count": null,
   "metadata": {},
   "outputs": [],
   "source": []
  },
  {
   "cell_type": "code",
   "execution_count": null,
   "metadata": {},
   "outputs": [],
   "source": []
=======
   "execution_count": null,
   "metadata": {},
   "outputs": [],
   "source": [
    "import "
   ]
>>>>>>> create notebook
  }
 ],
 "metadata": {
  "kernelspec": {
   "display_name": "Python 3",
   "language": "python",
   "name": "python3"
  },
  "language_info": {
   "codemirror_mode": {
    "name": "ipython",
    "version": 3
   },
   "file_extension": ".py",
   "mimetype": "text/x-python",
   "name": "python",
   "nbconvert_exporter": "python",
   "pygments_lexer": "ipython3",
<<<<<<< 7091e82edf9a18475159b26d44d376856a865cb3
   "version": "3.7.0"
=======
   "version": "3.6.5"
>>>>>>> create notebook
  }
 },
 "nbformat": 4,
 "nbformat_minor": 2
}
